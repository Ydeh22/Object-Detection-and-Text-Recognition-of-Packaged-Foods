{
 "cells": [
  {
   "cell_type": "code",
   "execution_count": 2,
   "metadata": {},
   "outputs": [],
   "source": [
    "import numpy as np\n",
    "import pandas as pd\n",
    "import os, glob, re\n",
    "import argparse\n",
    "import cv2"
   ]
  },
  {
   "cell_type": "code",
   "execution_count": 4,
   "metadata": {},
   "outputs": [],
   "source": [
    "CURDIR = \"C:/Users/Lenovo/Desktop/SEM6\"\n",
    "DATASET = \"C:/Users/Lenovo/Desktop/SEM6/INPUT\"\n",
    "OUTDIR = os.path.split(DATASET)[0]\n",
    "\n",
    "# df = pd.read_table(DATASET, sep=',')\n",
    "# print(args)\n",
    "# print(OUTDIR)"
   ]
  },
  {
   "cell_type": "code",
   "execution_count": null,
   "metadata": {},
   "outputs": [],
   "source": [
    "for i in df.index:\n",
    "    name = df.loc[i, 'file']\n",
    "    print('Processing image', f' {name} ({i+1} / {df.shape[0]})')\n",
    "    try:\n",
    "        img = cv2.imread(name)\n",
    "    except Exception as exc:\n",
    "        print(exc)\n",
    "        continue\n",
    "    x1 = df.loc[i, 'x1']\n",
    "    y1 = df.loc[i, 'y1']\n",
    "    x2 = df.loc[i, 'x2']\n",
    "    y2 = df.loc[i, 'y2']\n",
    "    label = df.loc[i, 'label'].replace(' ', '_')\n",
    "    roi_img = img[y1:y2, x1:x2]\n",
    "\n",
    "    extracted_name, _, extracted_extension = os.path.split(name)[1].partition('.')\n",
    "    roi_name = f'{label}_{extracted_name}_{x1}_{y1}_{x2}_{y2}.{extracted_extension}'\n",
    "    print(f'Output ROI to {os.path.join(OUTDIR, roi_name)}\\n')\n",
    "    cv2.imwrite(os.path.join(OUTDIR, roi_name), roi_img) \n",
    "    cv2.imshow('roi', roi_img)\n",
    "    if cv2.waitKey(100) & 0xFF == ord('q'):\n",
    "        continue\n",
    "\n",
    "cv2.destroyAllWindows()"
   ]
  }
 ],
 "metadata": {
  "kernelspec": {
   "display_name": "Python 3",
   "language": "python",
   "name": "python3"
  },
  "language_info": {
   "codemirror_mode": {
    "name": "ipython",
    "version": 3
   },
   "file_extension": ".py",
   "mimetype": "text/x-python",
   "name": "python",
   "nbconvert_exporter": "python",
   "pygments_lexer": "ipython3",
   "version": "3.8.8"
  }
 },
 "nbformat": 4,
 "nbformat_minor": 4
}
